{
 "cells": [
  {
   "cell_type": "code",
   "execution_count": 2,
   "metadata": {},
   "outputs": [
    {
     "data": {
      "text/plain": [
       "100"
      ]
     },
     "execution_count": 2,
     "metadata": {},
     "output_type": "execute_result"
    }
   ],
   "source": [
    "class student:\n",
    "    name=\"ajay devgan\"\n",
    "    rollno=100\n",
    "s=student()\n",
    "s.name\n",
    "s.rollno"
   ]
  },
  {
   "cell_type": "code",
   "execution_count": 3,
   "metadata": {},
   "outputs": [
    {
     "data": {
      "text/plain": [
       "'ajay devgan'"
      ]
     },
     "execution_count": 3,
     "metadata": {},
     "output_type": "execute_result"
    }
   ],
   "source": [
    "class student:\n",
    "    name=\"ajay devgan\"\n",
    "    def message(self):\n",
    "        return self.name\n",
    "s=student()\n",
    "s.message()"
   ]
  },
  {
   "cell_type": "code",
   "execution_count": 5,
   "metadata": {},
   "outputs": [
    {
     "name": "stdout",
     "output_type": "stream",
     "text": [
      "ajay devgan\n"
     ]
    }
   ],
   "source": [
    "class student:\n",
    "    name=\"ajay devgan\"\n",
    "    def message(self):\n",
    "        name=\"ajay devgan\"\n",
    "        print(name)\n",
    "s=student()\n",
    "s.message()"
   ]
  },
  {
   "cell_type": "code",
   "execution_count": 12,
   "metadata": {},
   "outputs": [],
   "source": [
    "class student:\n",
    "    def __init__ (self,name):\n",
    "        self.name=name\n",
    "    \n",
    "    def info(self):\n",
    "        return self.name\n",
    "s=student(\"ajay devgan\")"
   ]
  },
  {
   "cell_type": "code",
   "execution_count": 20,
   "metadata": {},
   "outputs": [],
   "source": [
    "class student1:\n",
    "    def name1(self):\n",
    "        print(\"ajay devgan\")"
   ]
  },
  {
   "cell_type": "code",
   "execution_count": 21,
   "metadata": {},
   "outputs": [],
   "source": [
    "class student2(student1):\n",
    "    def name2(self):\n",
    "        print(\"akshay kumar\")\n",
    "        self.name1()"
   ]
  },
  {
   "cell_type": "code",
   "execution_count": 22,
   "metadata": {},
   "outputs": [
    {
     "name": "stdout",
     "output_type": "stream",
     "text": [
      "akshay kumar\n",
      "ajay devgan\n"
     ]
    }
   ],
   "source": [
    "s=student2()\n",
    "s.name2()"
   ]
  },
  {
   "cell_type": "code",
   "execution_count": 27,
   "metadata": {},
   "outputs": [],
   "source": [
    "class student1:\n",
    "    def name1(self):\n",
    "        print(\"ajay devgan\")"
   ]
  },
  {
   "cell_type": "code",
   "execution_count": 28,
   "metadata": {},
   "outputs": [],
   "source": [
    "class student2:\n",
    "    def name2(self):\n",
    "        print(\"akshay kumar\")\n",
    "        "
   ]
  },
  {
   "cell_type": "code",
   "execution_count": 29,
   "metadata": {},
   "outputs": [],
   "source": [
    "class teacher(student1,student2):\n",
    "    def name3(self):\n",
    "        print(\"shakti kapoor\")\n",
    "        self.name1()\n",
    "        self.name2()\n"
   ]
  },
  {
   "cell_type": "code",
   "execution_count": 31,
   "metadata": {},
   "outputs": [
    {
     "name": "stdout",
     "output_type": "stream",
     "text": [
      "shakti kapoor\n",
      "ajay devgan\n",
      "akshay kumar\n"
     ]
    }
   ],
   "source": [
    "t=teacher()\n",
    "t.name3()"
   ]
  },
  {
   "cell_type": "code",
   "execution_count": 32,
   "metadata": {},
   "outputs": [
    {
     "name": "stdout",
     "output_type": "stream",
     "text": [
      "shakti kapoor\n",
      "ajay devgan\n",
      "akshay kumar\n"
     ]
    }
   ],
   "source": [
    "class student1:\n",
    "    def name1(self):\n",
    "        print(\"ajay devgan\")\n",
    "\n",
    "class student2(student1):\n",
    "    def name2(self):\n",
    "        print(\"akshay kumar\")\n",
    "\n",
    "class teacher(student2):\n",
    "    def name3(self):\n",
    "        print(\"shakti kapoor\")\n",
    "        self.name1()\n",
    "        self.name2()\n",
    "\n",
    "t=teacher()\n",
    "t.name3()"
   ]
  },
  {
   "cell_type": "code",
   "execution_count": 34,
   "metadata": {},
   "outputs": [
    {
     "name": "stdout",
     "output_type": "stream",
     "text": [
      "shakti kapoor\n",
      "ajay devgan\n"
     ]
    }
   ],
   "source": [
    "class student1:\n",
    "    def name1(self):\n",
    "        print(\"ajay devgan\")\n",
    "\n",
    "\n",
    "class student2(student1):\n",
    "    def name2(self):\n",
    "        print(\"akshay kumar\")\n",
    "\n",
    "\n",
    "class teacher(student1):\n",
    "    def name3(self):\n",
    "        print(\"shakti kapoor\")\n",
    "        self.name1()\n",
    "\n",
    "\n",
    "\n",
    "t=teacher()\n",
    "t.name3()"
   ]
  },
  {
   "cell_type": "code",
   "execution_count": 35,
   "metadata": {},
   "outputs": [
    {
     "name": "stdout",
     "output_type": "stream",
     "text": [
      "kadar khan\n",
      "shakti kapoor\n",
      "ajay devgan\n",
      "akshay kumar\n"
     ]
    }
   ],
   "source": [
    "class student1:\n",
    "    def name1(self):\n",
    "        print(\"ajay devgan\")\n",
    "\n",
    "\n",
    "class student2:\n",
    "    def name2(self):\n",
    "        print(\"akshay kumar\")\n",
    "\n",
    "\n",
    "\n",
    "class teacher(student1,student2):\n",
    "    def name3(self):\n",
    "        print(\"shakti kapoor\")\n",
    "\n",
    "\n",
    "class master_teacher(teacher):\n",
    "    def name4(self):\n",
    "        print(\"kadar khan\")\n",
    "        self.name3()\n",
    "        self.name1()\n",
    "        self.name2()\n",
    "\n",
    "m=master_teacher()\n",
    "m.name4()\n",
    "\n",
    "\n"
   ]
  },
  {
   "cell_type": "code",
   "execution_count": 36,
   "metadata": {},
   "outputs": [],
   "source": [
    "import abc\n",
    "class profession:\n",
    "    @abc.abstractmethod\n",
    "    def name(self):\n",
    "        pass\n",
    "    @abc.abstractmethod\n",
    "    def income(self):\n",
    "        pass\n",
    "    @abc.abstractmethod    \n",
    "    def city(self):\n",
    "        pass"
   ]
  },
  {
   "cell_type": "code",
   "execution_count": 37,
   "metadata": {},
   "outputs": [
    {
     "data": {
      "text/plain": [
       "1000000000000000"
      ]
     },
     "execution_count": 37,
     "metadata": {},
     "output_type": "execute_result"
    }
   ],
   "source": [
    "\n",
    "class actor(profession):\n",
    "\n",
    "    def name(self):\n",
    "        return \"ajay devgan\"\n",
    "    \n",
    "    def income(self):\n",
    "        return 1000000000000000\n",
    "    \n",
    "    def city(self):\n",
    "        return \"Bombay\"\n",
    "    \n",
    "\n",
    "a=actor()\n",
    "a.name()\n",
    "a.city()\n",
    "a.income()\n",
    "\n",
    "    "
   ]
  },
  {
   "cell_type": "code",
   "execution_count": 44,
   "metadata": {},
   "outputs": [
    {
     "data": {
      "text/plain": [
       "('akshay kumar', 1000)"
      ]
     },
     "execution_count": 44,
     "metadata": {},
     "output_type": "execute_result"
    }
   ],
   "source": [
    "class student:\n",
    "     def __init__ (self,name,rollno):\n",
    "          self.__name=name\n",
    "          self.__rollno=rollno\n",
    "\n",
    "     def set_info(self,name,rollno):\n",
    "          self.__name=name\n",
    "          self.__rollno=rollno\n",
    "\n",
    "     def get_info(self):\n",
    "          return self.__name,self.__rollno   \n",
    "\n",
    "s=student(\"ajay devgan\",100)\n",
    "s.set_info(\"akshay kumar\",1000)\n",
    "s.get_info()"
   ]
  },
  {
   "cell_type": "code",
   "execution_count": 45,
   "metadata": {},
   "outputs": [
    {
     "name": "stdout",
     "output_type": "stream",
     "text": [
      "akshay kumar\n"
     ]
    }
   ],
   "source": [
    "class student1:\n",
    "    def name(self):\n",
    "        print(\"ajay devgan\")\n",
    "\n",
    "\n",
    "class student2(student1):\n",
    "\n",
    "    def name(self):\n",
    "        print(\"akshay kumar\")\n",
    "\n",
    "s=student2()\n",
    "s.name()"
   ]
  },
  {
   "cell_type": "code",
   "execution_count": 46,
   "metadata": {},
   "outputs": [],
   "source": [
    "name=open(\"D:/Hello.txt\",\"w\")\n",
    "name.write(\"hello world\")\n",
    "name.close()\n"
   ]
  },
  {
   "cell_type": "code",
   "execution_count": 12,
   "metadata": {},
   "outputs": [],
   "source": [
    "def deco(func):\n",
    "    def inner_dec():\n",
    "        print(\"this is my start of function\")\n",
    "        func()\n",
    "        print(\"this is my end of my function\")\n",
    "    return inner_dec"
   ]
  },
  {
   "cell_type": "code",
   "execution_count": 13,
   "metadata": {},
   "outputs": [],
   "source": [
    "@deco\n",
    "def message():\n",
    "    print(2**3)"
   ]
  },
  {
   "cell_type": "code",
   "execution_count": 14,
   "metadata": {},
   "outputs": [
    {
     "name": "stdout",
     "output_type": "stream",
     "text": [
      "this is my start of function\n",
      "8\n",
      "this is my end of my function\n"
     ]
    }
   ],
   "source": [
    "message()"
   ]
  },
  {
   "cell_type": "code",
   "execution_count": 20,
   "metadata": {},
   "outputs": [],
   "source": [
    "import time\n",
    "def deco(func):\n",
    "    def inner_dec():\n",
    "        start=time.time()\n",
    "        func()\n",
    "        end=time.time()\n",
    "        print(end-start)\n",
    "    return inner_dec"
   ]
  },
  {
   "cell_type": "code",
   "execution_count": 21,
   "metadata": {},
   "outputs": [],
   "source": [
    "@deco\n",
    "def message():\n",
    "    print(10000**100)"
   ]
  },
  {
   "cell_type": "code",
   "execution_count": 22,
   "metadata": {},
   "outputs": [
    {
     "name": "stdout",
     "output_type": "stream",
     "text": [
      "10000000000000000000000000000000000000000000000000000000000000000000000000000000000000000000000000000000000000000000000000000000000000000000000000000000000000000000000000000000000000000000000000000000000000000000000000000000000000000000000000000000000000000000000000000000000000000000000000000000000000000000000000000000000000000000000000000000000000000000000000000000000000000000000000000000000000000\n",
      "0.0\n"
     ]
    }
   ],
   "source": [
    "message()"
   ]
  },
  {
   "cell_type": "code",
   "execution_count": 15,
   "metadata": {},
   "outputs": [],
   "source": [
    "class pwskills:\n",
    "\n",
    "    mobile_no=938292010\n",
    "\n",
    "    def __init__ (self,name,email):\n",
    "        self.name=name\n",
    "        self.email=email\n",
    "\n",
    "    @classmethod\n",
    "    def details(cls,name,email):\n",
    "        return cls(name,email)\n",
    "\n",
    "    def student_details(self):\n",
    "        print(self.name)\n",
    "        print(self.email)\n",
    "        print(self.mobile_no)"
   ]
  },
  {
   "cell_type": "code",
   "execution_count": 16,
   "metadata": {},
   "outputs": [
    {
     "name": "stdout",
     "output_type": "stream",
     "text": [
      "mohan\n",
      "mohan@gmail.com\n",
      "938292010\n"
     ]
    }
   ],
   "source": [
    "pw=pwskills(\"mohan\",\"mohan@gmail.com\")\n",
    "pw.name\n",
    "pw.student_details()"
   ]
  },
  {
   "cell_type": "code",
   "execution_count": 12,
   "metadata": {},
   "outputs": [
    {
     "name": "stdout",
     "output_type": "stream",
     "text": [
      "rohan\n",
      "rohan@gmail.com\n"
     ]
    }
   ],
   "source": [
    "ps=pwskills.details(\"rohan\",\"rohan@gmail.com\")\n",
    "ps.name\n",
    "ps.email\n",
    "ps.student_details()"
   ]
  },
  {
   "cell_type": "code",
   "execution_count": 14,
   "metadata": {},
   "outputs": [
    {
     "data": {
      "text/plain": [
       "<__main__.pwskills at 0x226052456d0>"
      ]
     },
     "execution_count": 14,
     "metadata": {},
     "output_type": "execute_result"
    }
   ],
   "source": [
    "ps=pwskills.details(\"rohan\",\"rohan@gmail.com\")\n"
   ]
  },
  {
   "cell_type": "code",
   "execution_count": 74,
   "metadata": {},
   "outputs": [],
   "source": [
    "class pwskills:\n",
    "\n",
    "    mobile_no=938292010\n",
    "\n",
    "    def __init__ (self,name,email):\n",
    "        self.name=name\n",
    "        self.email=email\n",
    "\n",
    "    @classmethod\n",
    "    def change_number(cls,mobile):\n",
    "        pwskills.mobile_no=mobile\n",
    "    \n",
    "\n",
    "    @classmethod\n",
    "    def details(cls,name,email):\n",
    "        return cls(name,email)\n",
    "\n",
    "    def student_details(self):\n",
    "        print(self.name)\n",
    "        print(self.email)\n",
    "        print(self.mobile_no)\n",
    "        print(pwskills.mobile_no)"
   ]
  },
  {
   "cell_type": "code",
   "execution_count": 79,
   "metadata": {},
   "outputs": [],
   "source": [
    "pw=pwskills.details(\"rohan\",\"rohan@gmail.com\")\n"
   ]
  },
  {
   "cell_type": "code",
   "execution_count": 76,
   "metadata": {},
   "outputs": [],
   "source": [
    "def course_details(cls,coursename):\n",
    "    print(coursename)"
   ]
  },
  {
   "cell_type": "code",
   "execution_count": 80,
   "metadata": {},
   "outputs": [
    {
     "name": "stdout",
     "output_type": "stream",
     "text": [
      "data science\n"
     ]
    }
   ],
   "source": [
    "pwskills.course_details=classmethod(course_details)\n",
    "pwskills.course_details(\"data science\")"
   ]
  },
  {
   "cell_type": "code",
   "execution_count": 85,
   "metadata": {},
   "outputs": [],
   "source": [
    "class pwskills:\n",
    "\n",
    "    mobile_no=938292010\n",
    "\n",
    "    def __init__ (self,name,email):\n",
    "        self.name=name\n",
    "        self.email=email\n",
    "\n",
    "    @classmethod\n",
    "    def change_number(cls,mobile):\n",
    "        pwskills.mobile_no=mobile\n",
    "    \n",
    "\n",
    "    @classmethod\n",
    "    def details(cls,name,email):\n",
    "        return cls(name,email)\n",
    "\n",
    "    def student_details(self):\n",
    "        print(self.name)\n",
    "        print(self.email)\n",
    "        print(self.mobile_no)\n",
    "        print(pwskills.mobile_no)"
   ]
  },
  {
   "cell_type": "code",
   "execution_count": 92,
   "metadata": {},
   "outputs": [],
   "source": [
    "delattr(pwskills,\"change_number\")"
   ]
  },
  {
   "cell_type": "code",
   "execution_count": 93,
   "metadata": {},
   "outputs": [
    {
     "ename": "AttributeError",
     "evalue": "type object 'pwskills' has no attribute 'change_number'",
     "output_type": "error",
     "traceback": [
      "\u001b[1;31m---------------------------------------------------------------------------\u001b[0m",
      "\u001b[1;31mAttributeError\u001b[0m                            Traceback (most recent call last)",
      "Cell \u001b[1;32mIn[93], line 1\u001b[0m\n\u001b[1;32m----> 1\u001b[0m pwskills\u001b[39m.\u001b[39;49mchange_number\n",
      "\u001b[1;31mAttributeError\u001b[0m: type object 'pwskills' has no attribute 'change_number'"
     ]
    }
   ],
   "source": [
    "pwskills.change_number"
   ]
  },
  {
   "cell_type": "code",
   "execution_count": null,
   "metadata": {},
   "outputs": [],
   "source": []
  },
  {
   "cell_type": "code",
   "execution_count": null,
   "metadata": {},
   "outputs": [],
   "source": []
  },
  {
   "cell_type": "code",
   "execution_count": null,
   "metadata": {},
   "outputs": [],
   "source": []
  }
 ],
 "metadata": {
  "kernelspec": {
   "display_name": "myvenv",
   "language": "python",
   "name": "python3"
  },
  "language_info": {
   "codemirror_mode": {
    "name": "ipython",
    "version": 3
   },
   "file_extension": ".py",
   "mimetype": "text/x-python",
   "name": "python",
   "nbconvert_exporter": "python",
   "pygments_lexer": "ipython3",
   "version": "3.11.4"
  },
  "orig_nbformat": 4
 },
 "nbformat": 4,
 "nbformat_minor": 2
}
