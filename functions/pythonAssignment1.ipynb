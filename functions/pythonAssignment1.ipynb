{
 "cells": [
  {
   "cell_type": "code",
   "execution_count": 11,
   "metadata": {},
   "outputs": [
    {
     "data": {
      "text/plain": [
       "[1, 3, 5, 7, 9, 11, 13, 15, 17, 19, 21, 23, 25]"
      ]
     },
     "execution_count": 11,
     "metadata": {},
     "output_type": "execute_result"
    }
   ],
   "source": [
    "# q1\n",
    "# def is used to create a function\n",
    "def odd():\n",
    "    a=[]\n",
    "    for i in range(1,26):\n",
    "        if(i%2!=0):\n",
    "            a.append(i)\n",
    "    return a\n",
    "odd()"
   ]
  },
  {
   "cell_type": "code",
   "execution_count": 5,
   "metadata": {},
   "outputs": [
    {
     "data": {
      "text/plain": [
       "{'a': 100, 'name': 'ajay devgan', 'marks': 100}"
      ]
     },
     "execution_count": 5,
     "metadata": {},
     "output_type": "execute_result"
    }
   ],
   "source": [
    "# q2\n",
    "# *args is used to create a tuple of too many arguments\n",
    "def test(*args):\n",
    "    return args\n",
    "test(1,2,3,4,\"sudh\")\n",
    "# **kwargs is used to create dictionary with too many keys and values\n",
    "def test1(**kwargs):\n",
    "    return kwargs\n",
    "test1(a=100,name=\"ajay devgan\",marks=100)\n"
   ]
  },
  {
   "cell_type": "code",
   "execution_count": 6,
   "metadata": {},
   "outputs": [
    {
     "name": "stdout",
     "output_type": "stream",
     "text": [
      "2\n",
      "4\n",
      "6\n",
      "8\n",
      "10\n"
     ]
    }
   ],
   "source": [
    "# q3\n",
    "# iterator is something which is used to throw values one by one\n",
    "# iter() method is used to create an iterator\n",
    "# next() method is used for iteration\n",
    "\n",
    "a=[2,4,6,8,10,12,14,16,18,20]\n",
    "x=iter(a)\n",
    "for i in range(5):\n",
    "    print(next(x))"
   ]
  },
  {
   "cell_type": "code",
   "execution_count": 49,
   "metadata": {},
   "outputs": [
    {
     "name": "stdout",
     "output_type": "stream",
     "text": [
      "2\n",
      "3\n",
      "5\n",
      "7\n",
      "11\n",
      "13\n",
      "17\n",
      "19\n",
      "23\n",
      "29\n",
      "31\n",
      "37\n",
      "41\n",
      "43\n",
      "47\n",
      "53\n",
      "59\n",
      "61\n",
      "67\n",
      "71\n"
     ]
    }
   ],
   "source": [
    "# q4\n",
    "# generator function is like a iterator in python\n",
    "# yield keyword is used to throw a value\n",
    "def primenumber(n):\n",
    "    yield 2\n",
    "    a=3\n",
    "    while(a<=n):\n",
    "        for i in range(2,a):\n",
    "            if(a%i==0):\n",
    "                break\n",
    "        else:\n",
    "            yield a\n",
    "        a=a+1\n",
    "        \n",
    "x=primenumber(1000)\n",
    "for i in range(20):\n",
    "    print(next(x))\n",
    "\n",
    "\n",
    "    \n",
    "\n",
    "\n",
    "                \n"
   ]
  },
  {
   "cell_type": "code",
   "execution_count": null,
   "metadata": {},
   "outputs": [],
   "source": [
    "# q5\n",
    "def primenumber(n):\n",
    "    yield 2\n",
    "    a=3\n",
    "    while(a<=n):\n",
    "        for i in range(2,a):\n",
    "            if(a%i==0):\n",
    "                break\n",
    "        else:\n",
    "            yield a\n",
    "        a=a+1\n",
    "        \n",
    "x=primenumber(1000)\n",
    "for i in range(20):\n",
    "    print(next(x))"
   ]
  },
  {
   "cell_type": "code",
   "execution_count": 1,
   "metadata": {},
   "outputs": [
    {
     "name": "stdout",
     "output_type": "stream",
     "text": [
      "0\n",
      "1\n",
      "1\n",
      "2\n",
      "3\n",
      "5\n",
      "8\n",
      "13\n",
      "21\n",
      "34\n",
      "55\n"
     ]
    }
   ],
   "source": [
    "# q6\n",
    "def fib():\n",
    "    a,b=0,1\n",
    "    while True:\n",
    "        yield a\n",
    "        a,b=b,a+b\n",
    "x=fib()\n",
    "for i in range(11):\n",
    "    print(next(x))"
   ]
  },
  {
   "cell_type": "code",
   "execution_count": 2,
   "metadata": {},
   "outputs": [
    {
     "name": "stdout",
     "output_type": "stream",
     "text": [
      "['p', 'w', 's', 'k', 'i', 'l', 'l', 's']\n"
     ]
    }
   ],
   "source": [
    "# q7\n",
    "s=\"pwskills\"\n",
    "def test():\n",
    "    l=[]\n",
    "    for i in s:\n",
    "        l.append(i)\n",
    "    print(l)\n",
    "test()"
   ]
  },
  {
   "cell_type": "code",
   "execution_count": 9,
   "metadata": {},
   "outputs": [
    {
     "name": "stdout",
     "output_type": "stream",
     "text": [
      "not a palindrome\n"
     ]
    }
   ],
   "source": [
    "# q8\n",
    "name=input(\"enter the string= \")\n",
    "def check(s):\n",
    "    i=0\n",
    "    j=len(name)-1\n",
    "    while(i<=j):\n",
    "        if(name[i]!=name[j]):\n",
    "            print(\"not a palindrome\")\n",
    "            break\n",
    "    else:\n",
    "        print(\"palindrome\")\n",
    "check(name)\n"
   ]
  },
  {
   "cell_type": "code",
   "execution_count": 10,
   "metadata": {},
   "outputs": [
    {
     "data": {
      "text/plain": [
       "[1,\n",
       " 3,\n",
       " 5,\n",
       " 7,\n",
       " 9,\n",
       " 11,\n",
       " 13,\n",
       " 15,\n",
       " 17,\n",
       " 19,\n",
       " 21,\n",
       " 23,\n",
       " 25,\n",
       " 27,\n",
       " 29,\n",
       " 31,\n",
       " 33,\n",
       " 35,\n",
       " 37,\n",
       " 39,\n",
       " 41,\n",
       " 43,\n",
       " 45,\n",
       " 47,\n",
       " 49,\n",
       " 51,\n",
       " 53,\n",
       " 55,\n",
       " 57,\n",
       " 59,\n",
       " 61,\n",
       " 63,\n",
       " 65,\n",
       " 67,\n",
       " 69,\n",
       " 71,\n",
       " 73,\n",
       " 75,\n",
       " 77,\n",
       " 79,\n",
       " 81,\n",
       " 83,\n",
       " 85,\n",
       " 87,\n",
       " 89,\n",
       " 91,\n",
       " 93,\n",
       " 95,\n",
       " 97,\n",
       " 99]"
      ]
     },
     "execution_count": 10,
     "metadata": {},
     "output_type": "execute_result"
    }
   ],
   "source": [
    "# q9\n",
    "l1=[]\n",
    "a=1\n",
    "while a<=100:\n",
    "    l1.append(a)\n",
    "    a=a+1\n",
    "from functools import reduce\n",
    "list(filter(lambda x:x%2!=0,l1))\n"
   ]
  }
 ],
 "metadata": {
  "kernelspec": {
   "display_name": "myvenv",
   "language": "python",
   "name": "python3"
  },
  "language_info": {
   "codemirror_mode": {
    "name": "ipython",
    "version": 3
   },
   "file_extension": ".py",
   "mimetype": "text/x-python",
   "name": "python",
   "nbconvert_exporter": "python",
   "pygments_lexer": "ipython3",
   "version": "3.11.4"
  },
  "orig_nbformat": 4
 },
 "nbformat": 4,
 "nbformat_minor": 2
}
