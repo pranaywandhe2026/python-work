{
 "cells": [
  {
   "cell_type": "code",
   "execution_count": 48,
   "metadata": {},
   "outputs": [],
   "source": [
    "# q1\n",
    "# abstraction is a process to create a blueprint for other classes to implement\n",
    "import abc\n",
    "\n",
    "class pwskills:\n",
    "\n",
    "    @abc.abstractmethod\n",
    "    def student_details(self):\n",
    "        pass\n",
    "    \n",
    "    @abc.abstractmethod    \n",
    "    def student_marks(self):\n",
    "        pass"
   ]
  },
  {
   "cell_type": "code",
   "execution_count": 49,
   "metadata": {},
   "outputs": [],
   "source": [
    "class datascience(pwskills):\n",
    "\n",
    "    def student_details(self):\n",
    "        return \"this will return details of data science students\"\n",
    "    \n",
    "    def student_marks(self):\n",
    "        return \"this will return marks of students\""
   ]
  },
  {
   "cell_type": "code",
   "execution_count": 50,
   "metadata": {},
   "outputs": [
    {
     "data": {
      "text/plain": [
       "'this will return marks of students'"
      ]
     },
     "execution_count": 50,
     "metadata": {},
     "output_type": "execute_result"
    }
   ],
   "source": [
    "ds=datascience()\n",
    "ds.student_details()\n",
    "ds.student_marks()"
   ]
  },
  {
   "cell_type": "code",
   "execution_count": 51,
   "metadata": {},
   "outputs": [],
   "source": [
    "# q2\n",
    "# encapuslation is to wrap the data and code in a single unit and make it accesible\n",
    "# through specific functions like getters and setter\n",
    "# abstraction is used to hide the internal functionalities of a class \n",
    "# by making variables private\n",
    "# In general,abstraction is achieved through encapsulation\n",
    "\n",
    "class pwskills:\n",
    "\n",
    "    def __init__ (self,name_of_student):\n",
    "        self.__name_of_student=name_of_student\n",
    "\n",
    "    def get_name(self):\n",
    "        return self.__name_of_student"
   ]
  },
  {
   "cell_type": "code",
   "execution_count": 52,
   "metadata": {},
   "outputs": [
    {
     "data": {
      "text/plain": [
       "'rohan'"
      ]
     },
     "execution_count": 52,
     "metadata": {},
     "output_type": "execute_result"
    }
   ],
   "source": [
    "pw=pwskills(\"rohan\")\n",
    "pw.get_name()\n"
   ]
  },
  {
   "cell_type": "code",
   "execution_count": 53,
   "metadata": {},
   "outputs": [],
   "source": [
    "# q3\n",
    "# abc is a module in python used to create abstract method or\n",
    "# a blueprint to create to access some functions by inheriting\n",
    "# it in another class"
   ]
  },
  {
   "cell_type": "code",
   "execution_count": 54,
   "metadata": {},
   "outputs": [],
   "source": [
    "# q4\n",
    "# data abstraction can be achieved through encapulation\n",
    "class pwskills:\n",
    "\n",
    "    def __init__ (self,name_of_student):\n",
    "        self.__name_of_student=name_of_student\n",
    "\n",
    "    def get_name(self):\n",
    "        return self.__name_of_student"
   ]
  },
  {
   "cell_type": "code",
   "execution_count": 55,
   "metadata": {},
   "outputs": [
    {
     "data": {
      "text/plain": [
       "'rohan'"
      ]
     },
     "execution_count": 55,
     "metadata": {},
     "output_type": "execute_result"
    }
   ],
   "source": [
    "pw=pwskills(\"rohan\")\n",
    "pw.get_name()"
   ]
  },
  {
   "cell_type": "code",
   "execution_count": 56,
   "metadata": {},
   "outputs": [],
   "source": [
    "# q5\n",
    "# we cannot create object of an abstract class but we can \n",
    "# make definition of that abstract methods by inheriting it in \n",
    "# other class\n",
    "import abc\n",
    "\n",
    "class pwskills:\n",
    "\n",
    "    @abc.abstractclassmethod\n",
    "    def student_name(self,name):\n",
    "        pass\n"
   ]
  },
  {
   "cell_type": "code",
   "execution_count": 57,
   "metadata": {},
   "outputs": [],
   "source": [
    "class datascience(pwskills):\n",
    "\n",
    "    def student_name(self,name):\n",
    "        print(name)"
   ]
  },
  {
   "cell_type": "code",
   "execution_count": 58,
   "metadata": {},
   "outputs": [
    {
     "name": "stdout",
     "output_type": "stream",
     "text": [
      "rohan\n"
     ]
    }
   ],
   "source": [
    "ds=datascience()\n",
    "ds.student_name(\"rohan\")"
   ]
  },
  {
   "cell_type": "code",
   "execution_count": 59,
   "metadata": {},
   "outputs": [],
   "source": [
    "f=open(\"hello.txt\",'w')"
   ]
  },
  {
   "cell_type": "code",
   "execution_count": 60,
   "metadata": {},
   "outputs": [
    {
     "data": {
      "text/plain": [
       "'c:\\\\Users\\\\PRANAY\\\\OneDrive\\\\Desktop\\\\python\\\\oops'"
      ]
     },
     "execution_count": 60,
     "metadata": {},
     "output_type": "execute_result"
    }
   ],
   "source": [
    "pwd"
   ]
  },
  {
   "cell_type": "code",
   "execution_count": 61,
   "metadata": {},
   "outputs": [
    {
     "name": "stdout",
     "output_type": "stream",
     "text": [
      " Volume in drive C is Windows\n",
      " Volume Serial Number is 98FA-EFFA\n",
      "\n",
      " Directory of c:\\Users\\PRANAY\\OneDrive\\Desktop\\python\\oops\n",
      "\n",
      "09-08-2023  14:49    <DIR>          .\n",
      "28-07-2023  09:03    <DIR>          ..\n",
      "30-07-2023  09:45             1,632 bankaccount project.ipynb\n",
      "03-08-2023  16:37            10,912 class and object.ipynb\n",
      "01-08-2023  11:06            11,725 Class Methods Hindi.ipynb\n",
      "30-07-2023  13:34             5,332 Data Abstraction.ipynb\n",
      "09-08-2023  15:07                 0 hello.txt\n",
      "09-08-2023  14:49                22 helloworld.txt\n",
      "07-08-2023  21:43             6,544 INHERITANCE.ipynb\n",
      "08-08-2023  10:08             9,310 OOPS Assignment-1.ipynb\n",
      "09-08-2023  15:07            17,384 OOPS Assignment-2.ipynb\n",
      "31-07-2023  07:38             5,883 OOPS TASK ASSIGNMENT.ipynb\n",
      "28-07-2023  09:20             9,911 opps part 1 .ipynb\n",
      "30-07-2023  09:44             9,357 polymorphism.ipynb\n",
      "06-08-2023  15:09            24,004 special methods.ipynb\n",
      "              13 File(s)        112,016 bytes\n",
      "               2 Dir(s)  69,174,657,024 bytes free\n"
     ]
    }
   ],
   "source": [
    "ls"
   ]
  },
  {
   "cell_type": "code",
   "execution_count": 62,
   "metadata": {},
   "outputs": [
    {
     "name": "stdout",
     "output_type": "stream",
     "text": [
      " Volume in drive C is Windows\n",
      " Volume Serial Number is 98FA-EFFA\n",
      "\n",
      " Directory of c:\\Users\\PRANAY\\OneDrive\\Desktop\\python\\oops\n",
      "\n",
      "09-08-2023  14:49    <DIR>          .\n",
      "28-07-2023  09:03    <DIR>          ..\n",
      "30-07-2023  09:45             1,632 bankaccount project.ipynb\n",
      "03-08-2023  16:37            10,912 class and object.ipynb\n",
      "01-08-2023  11:06            11,725 Class Methods Hindi.ipynb\n",
      "30-07-2023  13:34             5,332 Data Abstraction.ipynb\n",
      "09-08-2023  15:07                 0 hello.txt\n",
      "09-08-2023  14:49                22 helloworld.txt\n",
      "07-08-2023  21:43             6,544 INHERITANCE.ipynb\n",
      "08-08-2023  10:08             9,310 OOPS Assignment-1.ipynb\n",
      "09-08-2023  15:07            17,384 OOPS Assignment-2.ipynb\n",
      "31-07-2023  07:38             5,883 OOPS TASK ASSIGNMENT.ipynb\n",
      "28-07-2023  09:20             9,911 opps part 1 .ipynb\n",
      "30-07-2023  09:44             9,357 polymorphism.ipynb\n",
      "06-08-2023  15:09            24,004 special methods.ipynb\n",
      "              13 File(s)        112,016 bytes\n",
      "               2 Dir(s)  69,174,648,832 bytes free\n"
     ]
    }
   ],
   "source": [
    "ls"
   ]
  },
  {
   "cell_type": "code",
   "execution_count": 63,
   "metadata": {},
   "outputs": [],
   "source": [
    "a=open(\"helloworld.txt\",'w')"
   ]
  },
  {
   "cell_type": "code",
   "execution_count": 64,
   "metadata": {},
   "outputs": [
    {
     "data": {
      "text/plain": [
       "'c:\\\\Users\\\\PRANAY\\\\OneDrive\\\\Desktop\\\\python\\\\oops'"
      ]
     },
     "execution_count": 64,
     "metadata": {},
     "output_type": "execute_result"
    }
   ],
   "source": [
    "pwd"
   ]
  },
  {
   "cell_type": "code",
   "execution_count": 65,
   "metadata": {},
   "outputs": [
    {
     "name": "stdout",
     "output_type": "stream",
     "text": [
      "[WinError 2] The system cannot find the file specified: 'desktop'\n",
      "c:\\Users\\PRANAY\\OneDrive\\Desktop\\python\\oops\n"
     ]
    }
   ],
   "source": [
    "cd desktop"
   ]
  },
  {
   "cell_type": "code",
   "execution_count": 66,
   "metadata": {},
   "outputs": [
    {
     "name": "stdout",
     "output_type": "stream",
     "text": [
      "[WinError 2] The system cannot find the file specified: 'python'\n",
      "c:\\Users\\PRANAY\\OneDrive\\Desktop\\python\\oops\n"
     ]
    }
   ],
   "source": [
    "cd python"
   ]
  },
  {
   "cell_type": "code",
   "execution_count": 67,
   "metadata": {},
   "outputs": [
    {
     "name": "stdout",
     "output_type": "stream",
     "text": [
      "[WinError 2] The system cannot find the file specified: 'py'\n",
      "c:\\Users\\PRANAY\\OneDrive\\Desktop\\python\\oops\n"
     ]
    }
   ],
   "source": [
    "cd py"
   ]
  },
  {
   "cell_type": "code",
   "execution_count": 68,
   "metadata": {},
   "outputs": [
    {
     "data": {
      "text/plain": [
       "22"
      ]
     },
     "execution_count": 68,
     "metadata": {},
     "output_type": "execute_result"
    }
   ],
   "source": [
    "a.write(\"hello,I am Ajay devgan\")"
   ]
  },
  {
   "cell_type": "code",
   "execution_count": 69,
   "metadata": {},
   "outputs": [],
   "source": [
    "a.close()"
   ]
  },
  {
   "cell_type": "code",
   "execution_count": 70,
   "metadata": {},
   "outputs": [
    {
     "data": {
      "text/plain": [
       "11"
      ]
     },
     "execution_count": 70,
     "metadata": {},
     "output_type": "execute_result"
    }
   ],
   "source": [
    "f.write(\"ajay devgan\")"
   ]
  },
  {
   "cell_type": "code",
   "execution_count": 71,
   "metadata": {},
   "outputs": [
    {
     "data": {
      "text/plain": [
       "11"
      ]
     },
     "execution_count": 71,
     "metadata": {},
     "output_type": "execute_result"
    }
   ],
   "source": [
    "f.write(\"ajay devgan\")"
   ]
  },
  {
   "cell_type": "code",
   "execution_count": 72,
   "metadata": {},
   "outputs": [
    {
     "data": {
      "text/plain": [
       "12"
      ]
     },
     "execution_count": 72,
     "metadata": {},
     "output_type": "execute_result"
    }
   ],
   "source": [
    "f.write(\"akshay kumar\")"
   ]
  },
  {
   "cell_type": "code",
   "execution_count": 73,
   "metadata": {},
   "outputs": [],
   "source": [
    "f.close()"
   ]
  },
  {
   "cell_type": "code",
   "execution_count": 74,
   "metadata": {},
   "outputs": [],
   "source": [
    "f=open(\"hello.txt\",'a')"
   ]
  },
  {
   "cell_type": "code",
   "execution_count": 75,
   "metadata": {},
   "outputs": [
    {
     "data": {
      "text/plain": [
       "7"
      ]
     },
     "execution_count": 75,
     "metadata": {},
     "output_type": "execute_result"
    }
   ],
   "source": [
    "f.write(\"govinda\")"
   ]
  },
  {
   "cell_type": "code",
   "execution_count": 76,
   "metadata": {},
   "outputs": [],
   "source": [
    "f.close()"
   ]
  },
  {
   "cell_type": "code",
   "execution_count": 77,
   "metadata": {},
   "outputs": [],
   "source": [
    "f=open(\"hello.txt\",'r')"
   ]
  },
  {
   "cell_type": "code",
   "execution_count": 78,
   "metadata": {},
   "outputs": [
    {
     "data": {
      "text/plain": [
       "'ajay devganajay devganakshay kumargovinda'"
      ]
     },
     "execution_count": 78,
     "metadata": {},
     "output_type": "execute_result"
    }
   ],
   "source": [
    "f.read()"
   ]
  },
  {
   "cell_type": "code",
   "execution_count": 79,
   "metadata": {},
   "outputs": [
    {
     "data": {
      "text/plain": [
       "''"
      ]
     },
     "execution_count": 79,
     "metadata": {},
     "output_type": "execute_result"
    }
   ],
   "source": [
    "f.readline()"
   ]
  },
  {
   "cell_type": "code",
   "execution_count": 80,
   "metadata": {},
   "outputs": [
    {
     "data": {
      "text/plain": [
       "0"
      ]
     },
     "execution_count": 80,
     "metadata": {},
     "output_type": "execute_result"
    }
   ],
   "source": [
    "f.seek(0)"
   ]
  },
  {
   "cell_type": "code",
   "execution_count": 81,
   "metadata": {},
   "outputs": [
    {
     "data": {
      "text/plain": [
       "'ajay devganajay devganakshay kumargovinda'"
      ]
     },
     "execution_count": 81,
     "metadata": {},
     "output_type": "execute_result"
    }
   ],
   "source": [
    "f.readline()"
   ]
  },
  {
   "cell_type": "code",
   "execution_count": 82,
   "metadata": {},
   "outputs": [
    {
     "data": {
      "text/plain": [
       "''"
      ]
     },
     "execution_count": 82,
     "metadata": {},
     "output_type": "execute_result"
    }
   ],
   "source": [
    "f.readline()"
   ]
  },
  {
   "cell_type": "code",
   "execution_count": 83,
   "metadata": {},
   "outputs": [
    {
     "data": {
      "text/plain": [
       "0"
      ]
     },
     "execution_count": 83,
     "metadata": {},
     "output_type": "execute_result"
    }
   ],
   "source": [
    "f.seek(0)"
   ]
  },
  {
   "cell_type": "code",
   "execution_count": 84,
   "metadata": {},
   "outputs": [
    {
     "data": {
      "text/plain": [
       "'ajay devganajay devganakshay kumargovinda'"
      ]
     },
     "execution_count": 84,
     "metadata": {},
     "output_type": "execute_result"
    }
   ],
   "source": [
    "f.readline()"
   ]
  },
  {
   "cell_type": "code",
   "execution_count": 85,
   "metadata": {},
   "outputs": [],
   "source": [
    "f=open(\"hello.txt\",'r')"
   ]
  },
  {
   "cell_type": "code",
   "execution_count": 86,
   "metadata": {},
   "outputs": [
    {
     "name": "stdout",
     "output_type": "stream",
     "text": [
      "ajay devganajay devganakshay kumargovinda\n"
     ]
    }
   ],
   "source": [
    "for i in f:\n",
    "    print(i)"
   ]
  },
  {
   "cell_type": "code",
   "execution_count": 87,
   "metadata": {},
   "outputs": [],
   "source": [
    "import os"
   ]
  },
  {
   "cell_type": "code",
   "execution_count": 88,
   "metadata": {},
   "outputs": [
    {
     "data": {
      "text/plain": [
       "41"
      ]
     },
     "execution_count": 88,
     "metadata": {},
     "output_type": "execute_result"
    }
   ],
   "source": [
    "os.path.getsize(\"hello.txt\")"
   ]
  },
  {
   "cell_type": "code",
   "execution_count": 89,
   "metadata": {},
   "outputs": [
    {
     "ename": "PermissionError",
     "evalue": "[WinError 32] The process cannot access the file because it is being used by another process: 'hello.txt'",
     "output_type": "error",
     "traceback": [
      "\u001b[1;31m---------------------------------------------------------------------------\u001b[0m",
      "\u001b[1;31mPermissionError\u001b[0m                           Traceback (most recent call last)",
      "Cell \u001b[1;32mIn[89], line 1\u001b[0m\n\u001b[1;32m----> 1\u001b[0m os\u001b[39m.\u001b[39;49mremove(\u001b[39m\"\u001b[39;49m\u001b[39mhello.txt\u001b[39;49m\u001b[39m\"\u001b[39;49m)\n",
      "\u001b[1;31mPermissionError\u001b[0m: [WinError 32] The process cannot access the file because it is being used by another process: 'hello.txt'"
     ]
    }
   ],
   "source": [
    "os.remove(\"hello.txt\")"
   ]
  },
  {
   "cell_type": "code",
   "execution_count": 90,
   "metadata": {},
   "outputs": [
    {
     "ename": "PermissionError",
     "evalue": "[WinError 32] The process cannot access the file because it is being used by another process: 'hello.txt' -> 'actor.txt'",
     "output_type": "error",
     "traceback": [
      "\u001b[1;31m---------------------------------------------------------------------------\u001b[0m",
      "\u001b[1;31mPermissionError\u001b[0m                           Traceback (most recent call last)",
      "Cell \u001b[1;32mIn[90], line 1\u001b[0m\n\u001b[1;32m----> 1\u001b[0m os\u001b[39m.\u001b[39;49mrename(\u001b[39m\"\u001b[39;49m\u001b[39mhello.txt\u001b[39;49m\u001b[39m\"\u001b[39;49m,\u001b[39m\"\u001b[39;49m\u001b[39mactor.txt\u001b[39;49m\u001b[39m\"\u001b[39;49m)\n",
      "\u001b[1;31mPermissionError\u001b[0m: [WinError 32] The process cannot access the file because it is being used by another process: 'hello.txt' -> 'actor.txt'"
     ]
    }
   ],
   "source": [
    "os.rename(\"hello.txt\",\"actor.txt\")"
   ]
  },
  {
   "cell_type": "code",
   "execution_count": null,
   "metadata": {},
   "outputs": [],
   "source": []
  },
  {
   "cell_type": "code",
   "execution_count": null,
   "metadata": {},
   "outputs": [],
   "source": []
  },
  {
   "cell_type": "code",
   "execution_count": null,
   "metadata": {},
   "outputs": [],
   "source": []
  },
  {
   "cell_type": "code",
   "execution_count": null,
   "metadata": {},
   "outputs": [],
   "source": []
  },
  {
   "cell_type": "code",
   "execution_count": null,
   "metadata": {},
   "outputs": [],
   "source": []
  },
  {
   "cell_type": "code",
   "execution_count": null,
   "metadata": {},
   "outputs": [],
   "source": []
  },
  {
   "cell_type": "code",
   "execution_count": null,
   "metadata": {},
   "outputs": [],
   "source": []
  },
  {
   "cell_type": "code",
   "execution_count": null,
   "metadata": {},
   "outputs": [],
   "source": []
  },
  {
   "cell_type": "code",
   "execution_count": null,
   "metadata": {},
   "outputs": [],
   "source": []
  },
  {
   "cell_type": "code",
   "execution_count": null,
   "metadata": {},
   "outputs": [],
   "source": []
  }
 ],
 "metadata": {
  "kernelspec": {
   "display_name": "myvenv",
   "language": "python",
   "name": "python3"
  },
  "language_info": {
   "codemirror_mode": {
    "name": "ipython",
    "version": 3
   },
   "file_extension": ".py",
   "mimetype": "text/x-python",
   "name": "python",
   "nbconvert_exporter": "python",
   "pygments_lexer": "ipython3",
   "version": "3.11.4"
  },
  "orig_nbformat": 4
 },
 "nbformat": 4,
 "nbformat_minor": 2
}
