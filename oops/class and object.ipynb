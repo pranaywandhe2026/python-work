{
 "cells": [
  {
   "cell_type": "code",
   "execution_count": 2,
   "metadata": {},
   "outputs": [],
   "source": [
    "class student:\n",
    "    def message(self):\n",
    "        print(\"welcome to my class\")"
   ]
  },
  {
   "cell_type": "code",
   "execution_count": 3,
   "metadata": {},
   "outputs": [
    {
     "name": "stdout",
     "output_type": "stream",
     "text": [
      "welcome to my class\n"
     ]
    }
   ],
   "source": [
    "rohan=student()\n",
    "rohan.message()"
   ]
  },
  {
   "cell_type": "code",
   "execution_count": 4,
   "metadata": {},
   "outputs": [
    {
     "name": "stdout",
     "output_type": "stream",
     "text": [
      "welcome to my class\n"
     ]
    }
   ],
   "source": [
    "gaurav=student()\n",
    "gaurav.message()"
   ]
  },
  {
   "cell_type": "code",
   "execution_count": 5,
   "metadata": {},
   "outputs": [],
   "source": [
    "class employee:\n",
    "    def __init__(self,name,id):\n",
    "        self.name=name\n",
    "        self.id=id\n",
    "        \n",
    "    def details(self):\n",
    "        return self.name,self.id"
   ]
  },
  {
   "cell_type": "code",
   "execution_count": 52,
   "metadata": {},
   "outputs": [],
   "source": [
    "sachin=employee(\"ragahav\",100)"
   ]
  },
  {
   "cell_type": "code",
   "execution_count": 82,
   "metadata": {},
   "outputs": [
    {
     "ename": "AttributeError",
     "evalue": "'employee' object has no attribute 'details'",
     "output_type": "error",
     "traceback": [
      "\u001b[1;31m---------------------------------------------------------------------------\u001b[0m",
      "\u001b[1;31mAttributeError\u001b[0m                            Traceback (most recent call last)",
      "Cell \u001b[1;32mIn[82], line 1\u001b[0m\n\u001b[1;32m----> 1\u001b[0m sachin\u001b[39m.\u001b[39;49mdetails()\n",
      "\u001b[1;31mAttributeError\u001b[0m: 'employee' object has no attribute 'details'"
     ]
    }
   ],
   "source": [
    "sachin.details()"
   ]
  },
  {
   "cell_type": "code",
   "execution_count": 2,
   "metadata": {},
   "outputs": [
    {
     "name": "stdout",
     "output_type": "stream",
     "text": [
      "ajay devgan\n",
      "100\n"
     ]
    }
   ],
   "source": [
    "class student:\n",
    "    name=\"ajay devgan\"\n",
    "    rollno=100\n",
    "s1=student()\n",
    "print(s1.name)\n",
    "print(s1.rollno)\n"
   ]
  },
  {
   "cell_type": "code",
   "execution_count": 4,
   "metadata": {},
   "outputs": [
    {
     "name": "stdout",
     "output_type": "stream",
     "text": [
      "Hi nagpur\n"
     ]
    }
   ],
   "source": [
    "class student:\n",
    "    def message(self):\n",
    "        print(\"Hi nagpur\")\n",
    "s=student()\n",
    "s.message()"
   ]
  },
  {
   "cell_type": "code",
   "execution_count": 6,
   "metadata": {},
   "outputs": [
    {
     "name": "stdout",
     "output_type": "stream",
     "text": [
      "ajay devgan\n"
     ]
    }
   ],
   "source": [
    "class student:\n",
    "    def message(self):\n",
    "        name=\"ajay devgan\"\n",
    "        print(name)\n",
    "s=student()\n",
    "s.message()"
   ]
  },
  {
   "cell_type": "code",
   "execution_count": 8,
   "metadata": {},
   "outputs": [
    {
     "name": "stdout",
     "output_type": "stream",
     "text": [
      "ajay devgan\n"
     ]
    }
   ],
   "source": [
    "class student:\n",
    "    name=\"ajay devgan\"\n",
    "    def message(self):\n",
    "        print(self.name)\n",
    "s=student()\n",
    "s.message()"
   ]
  },
  {
   "cell_type": "code",
   "execution_count": 9,
   "metadata": {},
   "outputs": [
    {
     "name": "stdout",
     "output_type": "stream",
     "text": [
      "ajay devgan\n"
     ]
    }
   ],
   "source": [
    "class student:\n",
    "    def __init__ (self):\n",
    "        name=\"ajay devgan\"\n",
    "        print(name)\n",
    "s=student()\n",
    "\n"
   ]
  },
  {
   "cell_type": "code",
   "execution_count": 10,
   "metadata": {},
   "outputs": [
    {
     "name": "stdout",
     "output_type": "stream",
     "text": [
      "ajay devgan\n"
     ]
    }
   ],
   "source": [
    "class student:\n",
    "    name=\"ajay devgan\"\n",
    "    def __init__ (self):\n",
    "        print(self.name)\n",
    "s=student()"
   ]
  },
  {
   "cell_type": "code",
   "execution_count": 12,
   "metadata": {},
   "outputs": [
    {
     "data": {
      "text/plain": [
       "'ajay devgan'"
      ]
     },
     "execution_count": 12,
     "metadata": {},
     "output_type": "execute_result"
    }
   ],
   "source": [
    "class student:\n",
    "    def __init__ (self,name):\n",
    "        self.name=name\n",
    "    def details(self):\n",
    "        return self.name\n",
    "s=student(\"ajay devgan\")\n",
    "s.details()"
   ]
  },
  {
   "cell_type": "code",
   "execution_count": 19,
   "metadata": {},
   "outputs": [],
   "source": [
    "class pwskills:\n",
    "\n",
    "    def student_details(self,name,email_id):\n",
    "        print(name)\n",
    "        print(email_id)\n",
    "\n",
    "    @staticmethod\n",
    "    def message():\n",
    "        print(\"ajay devgan\")\n",
    "\n",
    "\n",
    "    @staticmethod\n",
    "    def list_of_mentors(l):\n",
    "        pwskills.message()\n",
    "        print(l)\n",
    "\n",
    "    @classmethod\n",
    "    def class_name(cls):\n",
    "        cls.list_of_mentors([\"sudh\",\"krish\"])\n",
    "\n",
    "\n",
    "    def mentors(self,a):\n",
    "        self.message()\n",
    "        print(a)"
   ]
  },
  {
   "cell_type": "code",
   "execution_count": 21,
   "metadata": {},
   "outputs": [
    {
     "name": "stdout",
     "output_type": "stream",
     "text": [
      "ajay devgan\n",
      "akshay kumar\n"
     ]
    }
   ],
   "source": [
    "pw=pwskills()\n",
    "pw.mentors(\"akshay kumar\")"
   ]
  },
  {
   "cell_type": "code",
   "execution_count": 29,
   "metadata": {},
   "outputs": [],
   "source": [
    "def deco(func):\n",
    "    def inner_deco():\n",
    "        print(\"ajay devgan\")\n",
    "        func()\n",
    "        print(\"akshay kumar\")\n",
    "    return inner_deco"
   ]
  },
  {
   "cell_type": "code",
   "execution_count": 30,
   "metadata": {},
   "outputs": [],
   "source": [
    "@deco\n",
    "def message():\n",
    "    print(\"govinda\")"
   ]
  },
  {
   "cell_type": "code",
   "execution_count": 31,
   "metadata": {},
   "outputs": [
    {
     "name": "stdout",
     "output_type": "stream",
     "text": [
      "ajay devgan\n",
      "govinda\n",
      "akshay kumar\n"
     ]
    }
   ],
   "source": [
    "message()"
   ]
  },
  {
   "cell_type": "code",
   "execution_count": 22,
   "metadata": {},
   "outputs": [],
   "source": [
    "class pwskills:\n",
    "\n",
    "\n",
    "    mobile_no=9382910101\n",
    "\n",
    "    def __init__ (self,name,email):\n",
    "        self.name=name\n",
    "        self.email=email\n",
    "\n",
    "    @classmethod\n",
    "    def change(cls,mobile):\n",
    "        pwskills.mobile_no=mobile\n",
    "\n",
    "        \n",
    "    @classmethod\n",
    "    def class_details(cls,name,email):\n",
    "        return cls(name,email)\n",
    "\n",
    "    def details(self):\n",
    "        print(self.name)\n",
    "        print(self.email)"
   ]
  },
  {
   "cell_type": "code",
   "execution_count": 23,
   "metadata": {},
   "outputs": [],
   "source": [
    "pwskills.change(281910101020)"
   ]
  },
  {
   "cell_type": "code",
   "execution_count": 24,
   "metadata": {},
   "outputs": [
    {
     "data": {
      "text/plain": [
       "281910101020"
      ]
     },
     "execution_count": 24,
     "metadata": {},
     "output_type": "execute_result"
    }
   ],
   "source": [
    "pwskills.mobile_no"
   ]
  },
  {
   "cell_type": "code",
   "execution_count": 25,
   "metadata": {},
   "outputs": [],
   "source": [
    "def course_details(cls,course_name):\n",
    "    print(course_name)"
   ]
  },
  {
   "cell_type": "code",
   "execution_count": 26,
   "metadata": {},
   "outputs": [
    {
     "name": "stdout",
     "output_type": "stream",
     "text": [
      "data science\n"
     ]
    }
   ],
   "source": [
    "pwskills.course_details=classmethod(course_details)\n",
    "pwskills.course_details(\"data science\")"
   ]
  },
  {
   "cell_type": "code",
   "execution_count": 27,
   "metadata": {},
   "outputs": [],
   "source": [
    "# delattr(pwskills,\"mobile_no\")"
   ]
  },
  {
   "cell_type": "code",
   "execution_count": 28,
   "metadata": {},
   "outputs": [
    {
     "data": {
      "text/plain": [
       "281910101020"
      ]
     },
     "execution_count": 28,
     "metadata": {},
     "output_type": "execute_result"
    }
   ],
   "source": [
    "pwskills.mobile_no"
   ]
  },
  {
   "cell_type": "code",
   "execution_count": 32,
   "metadata": {},
   "outputs": [],
   "source": [
    "class pwskills:\n",
    "\n",
    "\n",
    "    @classmethod\n",
    "    def mobile_no(cls,mobile):\n",
    "        print(mobile)\n",
    "\n",
    "    @staticmethod\n",
    "    def course_name(name):\n",
    "        print(name)\n",
    " \n",
    "    @staticmethod\n",
    "    def rollno(n):\n",
    "        print(n)\n",
    "        pwskills.course_name(\"data science\")\n",
    "\n",
    "    @classmethod\n",
    "    def class_name(cls):\n",
    "        cls.rollno(1000)\n",
    "\n",
    "\n",
    "    def student_details(self,name):\n",
    "        self.rollno(1000000)\n",
    "        print(name)"
   ]
  },
  {
   "cell_type": "code",
   "execution_count": 33,
   "metadata": {},
   "outputs": [
    {
     "name": "stdout",
     "output_type": "stream",
     "text": [
      "1000000\n",
      "data science\n",
      "ajay devgan\n"
     ]
    }
   ],
   "source": [
    "pw=pwskills()\n",
    "pw.student_details(\"ajay devgan\")\n"
   ]
  },
  {
   "cell_type": "code",
   "execution_count": null,
   "metadata": {},
   "outputs": [],
   "source": []
  },
  {
   "cell_type": "code",
   "execution_count": null,
   "metadata": {},
   "outputs": [],
   "source": []
  },
  {
   "cell_type": "code",
   "execution_count": null,
   "metadata": {},
   "outputs": [],
   "source": []
  },
  {
   "cell_type": "code",
   "execution_count": null,
   "metadata": {},
   "outputs": [],
   "source": []
  },
  {
   "cell_type": "code",
   "execution_count": null,
   "metadata": {},
   "outputs": [],
   "source": []
  }
 ],
 "metadata": {
  "kernelspec": {
   "display_name": "myvenv",
   "language": "python",
   "name": "python3"
  },
  "language_info": {
   "codemirror_mode": {
    "name": "ipython",
    "version": 3
   },
   "file_extension": ".py",
   "mimetype": "text/x-python",
   "name": "python",
   "nbconvert_exporter": "python",
   "pygments_lexer": "ipython3",
   "version": "3.11.4"
  },
  "orig_nbformat": 4
 },
 "nbformat": 4,
 "nbformat_minor": 2
}
