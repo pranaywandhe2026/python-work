{
 "cells": [
  {
   "cell_type": "code",
   "execution_count": 1,
   "metadata": {},
   "outputs": [],
   "source": [
    "class rectangle:\n",
    "    def rec_area(self,height,width):\n",
    "        area=height*width\n",
    "        print(area)"
   ]
  },
  {
   "cell_type": "code",
   "execution_count": 2,
   "metadata": {},
   "outputs": [],
   "source": [
    "class square(rectangle):\n",
    "    def sq_area(self,side):\n",
    "        area=side*side\n",
    "        print(area)"
   ]
  },
  {
   "cell_type": "code",
   "execution_count": 4,
   "metadata": {},
   "outputs": [
    {
     "name": "stdout",
     "output_type": "stream",
     "text": [
      "200\n",
      "2500\n"
     ]
    }
   ],
   "source": [
    "s=square()\n",
    "s.rec_area(10,20)\n",
    "s.sq_area(50)"
   ]
  },
  {
   "cell_type": "code",
   "execution_count": 5,
   "metadata": {},
   "outputs": [],
   "source": [
    "class katrina:\n",
    "    def message(self):\n",
    "        print(\"I like ajay devgan\")"
   ]
  },
  {
   "cell_type": "code",
   "execution_count": 6,
   "metadata": {},
   "outputs": [],
   "source": [
    "class kareena:\n",
    "    def message2(self):\n",
    "        print(\"I also like ajay devgan\")"
   ]
  },
  {
   "cell_type": "code",
   "execution_count": 8,
   "metadata": {},
   "outputs": [],
   "source": [
    "class ajay_devgan(katrina,kareena):\n",
    "    def message3(self):\n",
    "        print(\"I also like katrina and kareena\")"
   ]
  },
  {
   "cell_type": "code",
   "execution_count": 11,
   "metadata": {},
   "outputs": [
    {
     "name": "stdout",
     "output_type": "stream",
     "text": [
      "I like ajay devgan\n",
      "I also like ajay devgan\n",
      "I also like katrina and kareena\n"
     ]
    }
   ],
   "source": [
    "ajay=ajay_devgan()\n",
    "ajay.message()\n",
    "ajay.message2()\n",
    "ajay.message3()\n"
   ]
  },
  {
   "cell_type": "code",
   "execution_count": 13,
   "metadata": {},
   "outputs": [],
   "source": [
    "# multilevel inheritance\n",
    "class actor:\n",
    "    def name(self):\n",
    "        print(\"ajay devgan\")"
   ]
  },
  {
   "cell_type": "code",
   "execution_count": 14,
   "metadata": {},
   "outputs": [],
   "source": [
    "class sports_person(actor):\n",
    "    def name2(self):\n",
    "        print(\"virat kohli\")"
   ]
  },
  {
   "cell_type": "code",
   "execution_count": 15,
   "metadata": {},
   "outputs": [],
   "source": [
    "class singer(sports_person):\n",
    "    def name3(self):\n",
    "        print(\"honey singh\")"
   ]
  },
  {
   "cell_type": "code",
   "execution_count": 17,
   "metadata": {},
   "outputs": [
    {
     "name": "stdout",
     "output_type": "stream",
     "text": [
      "ajay devgan\n",
      "virat kohli\n",
      "honey singh\n"
     ]
    }
   ],
   "source": [
    "s=singer()\n",
    "s.name()\n",
    "s.name2()\n",
    "s.name3()"
   ]
  },
  {
   "cell_type": "code",
   "execution_count": 18,
   "metadata": {},
   "outputs": [],
   "source": [
    "# hierarchical inheritance\n",
    "class actor:\n",
    "    def name(self):\n",
    "        print(\"ajay devgan\")"
   ]
  },
  {
   "cell_type": "code",
   "execution_count": 19,
   "metadata": {},
   "outputs": [],
   "source": [
    "class sports_person(actor):\n",
    "    def name2(self):\n",
    "        print(\"virat kohli\")"
   ]
  },
  {
   "cell_type": "code",
   "execution_count": 20,
   "metadata": {},
   "outputs": [],
   "source": [
    "class singer(actor):\n",
    "    def name3(self):\n",
    "        print(\"honey singh\")"
   ]
  },
  {
   "cell_type": "code",
   "execution_count": 23,
   "metadata": {},
   "outputs": [
    {
     "name": "stdout",
     "output_type": "stream",
     "text": [
      "ajay devgan\n",
      "honey singh\n"
     ]
    },
    {
     "ename": "AttributeError",
     "evalue": "'singer' object has no attribute 'name2'",
     "output_type": "error",
     "traceback": [
      "\u001b[1;31m---------------------------------------------------------------------------\u001b[0m",
      "\u001b[1;31mAttributeError\u001b[0m                            Traceback (most recent call last)",
      "Cell \u001b[1;32mIn[23], line 4\u001b[0m\n\u001b[0;32m      2\u001b[0m s\u001b[39m.\u001b[39mname()\n\u001b[0;32m      3\u001b[0m s\u001b[39m.\u001b[39mname3()\n\u001b[1;32m----> 4\u001b[0m s\u001b[39m.\u001b[39;49mname2()\n",
      "\u001b[1;31mAttributeError\u001b[0m: 'singer' object has no attribute 'name2'"
     ]
    }
   ],
   "source": [
    "s=singer()\n",
    "s.name()\n",
    "s.name3()\n",
    "s.name2()"
   ]
  },
  {
   "cell_type": "markdown",
   "metadata": {},
   "source": []
  },
  {
   "cell_type": "code",
   "execution_count": 1,
   "metadata": {},
   "outputs": [],
   "source": [
    "# hybrid inheritance\n",
    "class actor:\n",
    "    def name(self):\n",
    "        print(\"ajay devgan\")"
   ]
  },
  {
   "cell_type": "code",
   "execution_count": 25,
   "metadata": {},
   "outputs": [],
   "source": [
    "class sports_person:\n",
    "    def name2(self):\n",
    "        print(\"virat kohli\")"
   ]
  },
  {
   "cell_type": "code",
   "execution_count": 26,
   "metadata": {},
   "outputs": [],
   "source": [
    "class singer(actor,sports_person):\n",
    "    def name3(self):\n",
    "        print(\"honey singh\")"
   ]
  },
  {
   "cell_type": "code",
   "execution_count": 27,
   "metadata": {},
   "outputs": [],
   "source": [
    "class wrestler(singer):\n",
    "    def name4(self):\n",
    "        print(\"Brock Lesnar\")"
   ]
  },
  {
   "cell_type": "code",
   "execution_count": 28,
   "metadata": {},
   "outputs": [
    {
     "name": "stdout",
     "output_type": "stream",
     "text": [
      "ajay devgan\n",
      "virat kohli\n",
      "honey singh\n",
      "Brock Lesnar\n"
     ]
    }
   ],
   "source": [
    "s=wrestler()\n",
    "s.name()\n",
    "s.name2()\n",
    "s.name3()\n",
    "s.name4()"
   ]
  },
  {
   "cell_type": "code",
   "execution_count": null,
   "metadata": {},
   "outputs": [],
   "source": []
  }
 ],
 "metadata": {
  "kernelspec": {
   "display_name": "myvenv",
   "language": "python",
   "name": "python3"
  },
  "language_info": {
   "codemirror_mode": {
    "name": "ipython",
    "version": 3
   },
   "file_extension": ".py",
   "mimetype": "text/x-python",
   "name": "python",
   "nbconvert_exporter": "python",
   "pygments_lexer": "ipython3",
   "version": "3.11.4"
  },
  "orig_nbformat": 4
 },
 "nbformat": 4,
 "nbformat_minor": 2
}
