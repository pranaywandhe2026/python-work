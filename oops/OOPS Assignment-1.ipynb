{
 "cells": [
  {
   "cell_type": "code",
   "execution_count": 5,
   "metadata": {},
   "outputs": [],
   "source": [
    "# q1\n",
    "# class is like a template which carries all the features for making an object\n",
    "# consider railway form like a class or template to make persons filling the form as instance or object \n",
    "# of the class\n",
    "\n",
    "class RailwayForm:\n",
    "\n",
    "    def __init__ (self,name,train_no,seat_no):\n",
    "        print(name,train_no,seat_no)\n"
   ]
  },
  {
   "cell_type": "code",
   "execution_count": 6,
   "metadata": {},
   "outputs": [
    {
     "name": "stdout",
     "output_type": "stream",
     "text": [
      "rohan 7629 B-41\n"
     ]
    }
   ],
   "source": [
    "person=RailwayForm(\"rohan\",7629,\"B-41\")"
   ]
  },
  {
   "cell_type": "code",
   "execution_count": null,
   "metadata": {},
   "outputs": [],
   "source": [
    "# q2\n",
    "# 1.Data abstraction\n",
    "# 2.polymorphism\n",
    "# 3.Inheritance\n",
    "# 4.Classes and Objects\n",
    "# 5.Encapuslation"
   ]
  },
  {
   "cell_type": "code",
   "execution_count": 9,
   "metadata": {},
   "outputs": [],
   "source": [
    "# q3\n",
    "# __init__ function is used to creater objects while passing data into the class simultaneously\n",
    "class RailwayForm:\n",
    "\n",
    "    def __init__ (self,train_no,seat_no):\n",
    "        print(train_no,seat_no)"
   ]
  },
  {
   "cell_type": "code",
   "execution_count": 10,
   "metadata": {},
   "outputs": [
    {
     "name": "stdout",
     "output_type": "stream",
     "text": [
      "7569 b-41\n"
     ]
    }
   ],
   "source": [
    "rohan=RailwayForm(7569,\"b-41\")"
   ]
  },
  {
   "cell_type": "code",
   "execution_count": null,
   "metadata": {},
   "outputs": [],
   "source": [
    "# q4\n",
    "# self refers to the current object for which the function is call\n",
    "# self represents the instance of class through which we can access variables and methods\n"
   ]
  },
  {
   "cell_type": "code",
   "execution_count": 11,
   "metadata": {},
   "outputs": [],
   "source": [
    "# q5\n",
    "# Inheritance is  a way to extend properties of a class by inheriting the base class\n",
    "# 1.single inheritance\n",
    "class rectangle:\n",
    "    def rec_area(self,height,width):\n",
    "        area=height*width\n",
    "        print(area)"
   ]
  },
  {
   "cell_type": "code",
   "execution_count": 12,
   "metadata": {},
   "outputs": [],
   "source": [
    "class square(rectangle):\n",
    "    def sq_area(self,side):\n",
    "        area=side*side\n",
    "        print(area)"
   ]
  },
  {
   "cell_type": "code",
   "execution_count": 13,
   "metadata": {},
   "outputs": [
    {
     "name": "stdout",
     "output_type": "stream",
     "text": [
      "200\n",
      "2500\n"
     ]
    }
   ],
   "source": [
    "s=square()\n",
    "s.rec_area(10,20)\n",
    "s.sq_area(50)"
   ]
  },
  {
   "cell_type": "code",
   "execution_count": 14,
   "metadata": {},
   "outputs": [],
   "source": [
    "# 2.multiple inheritance\n",
    "class katrina:\n",
    "    def message(self):\n",
    "        print(\"I like ajay devgan\")"
   ]
  },
  {
   "cell_type": "code",
   "execution_count": 15,
   "metadata": {},
   "outputs": [],
   "source": [
    "class kareena:\n",
    "    def message2(self):\n",
    "        print(\"I also like ajay devgan\")"
   ]
  },
  {
   "cell_type": "code",
   "execution_count": 16,
   "metadata": {},
   "outputs": [],
   "source": [
    "class ajay_devgan(katrina,kareena):\n",
    "    def message3(self):\n",
    "        print(\"I also like katrina and kareena\")"
   ]
  },
  {
   "cell_type": "code",
   "execution_count": 17,
   "metadata": {},
   "outputs": [
    {
     "name": "stdout",
     "output_type": "stream",
     "text": [
      "I like ajay devgan\n",
      "I also like ajay devgan\n",
      "I also like katrina and kareena\n"
     ]
    }
   ],
   "source": [
    "ajay=ajay_devgan()\n",
    "ajay.message()\n",
    "ajay.message2()\n",
    "ajay.message3()"
   ]
  },
  {
   "cell_type": "code",
   "execution_count": 18,
   "metadata": {},
   "outputs": [],
   "source": [
    "# 3.hybrid inheritance\n",
    "class actor:\n",
    "    def name(self):\n",
    "        print(\"ajay devgan\")"
   ]
  },
  {
   "cell_type": "code",
   "execution_count": 19,
   "metadata": {},
   "outputs": [],
   "source": [
    "class sports_person:\n",
    "    def name2(self):\n",
    "        print(\"virat kohli\")"
   ]
  },
  {
   "cell_type": "code",
   "execution_count": 20,
   "metadata": {},
   "outputs": [],
   "source": [
    "class singer(actor,sports_person):\n",
    "    def name3(self):\n",
    "        print(\"honey singh\")"
   ]
  },
  {
   "cell_type": "code",
   "execution_count": 21,
   "metadata": {},
   "outputs": [],
   "source": [
    "class wrestler(singer):\n",
    "    def name4(self):\n",
    "        print(\"Brock Lesnar\")"
   ]
  },
  {
   "cell_type": "code",
   "execution_count": 31,
   "metadata": {},
   "outputs": [
    {
     "name": "stdout",
     "output_type": "stream",
     "text": [
      "ajay devgan\n",
      "virat kohli\n",
      "honey singh\n",
      "Brock Lesnar\n"
     ]
    }
   ],
   "source": [
    "s=wrestler()\n",
    "s.name()\n",
    "s.name2()\n",
    "s.name3()\n",
    "s.name4()"
   ]
  },
  {
   "cell_type": "code",
   "execution_count": 22,
   "metadata": {},
   "outputs": [],
   "source": [
    "# hierarchical inheritance\n",
    "class actor:\n",
    "    def name(self):\n",
    "        print(\"ajay devgan\")"
   ]
  },
  {
   "cell_type": "code",
   "execution_count": 23,
   "metadata": {},
   "outputs": [],
   "source": [
    "class sports_person(actor):\n",
    "    def name2(self):\n",
    "        print(\"virat kohli\")"
   ]
  },
  {
   "cell_type": "code",
   "execution_count": 24,
   "metadata": {},
   "outputs": [],
   "source": [
    "class singer(actor):\n",
    "    def name3(self):\n",
    "        print(\"honey singh\")"
   ]
  },
  {
   "cell_type": "code",
   "execution_count": 26,
   "metadata": {},
   "outputs": [
    {
     "name": "stdout",
     "output_type": "stream",
     "text": [
      "ajay devgan\n",
      "honey singh\n"
     ]
    }
   ],
   "source": [
    "s=singer()\n",
    "s.name()\n",
    "s.name3()\n"
   ]
  },
  {
   "cell_type": "code",
   "execution_count": 27,
   "metadata": {},
   "outputs": [],
   "source": [
    "# multilevel inheritance\n",
    "class actor:\n",
    "    def name(self):\n",
    "        print(\"ajay devgan\")"
   ]
  },
  {
   "cell_type": "code",
   "execution_count": 28,
   "metadata": {},
   "outputs": [],
   "source": [
    "class sports_person(actor):\n",
    "    def name2(self):\n",
    "        print(\"virat kohli\")"
   ]
  },
  {
   "cell_type": "code",
   "execution_count": 29,
   "metadata": {},
   "outputs": [],
   "source": [
    "class singer(sports_person):\n",
    "    def name3(self):\n",
    "        print(\"honey singh\")"
   ]
  },
  {
   "cell_type": "code",
   "execution_count": 30,
   "metadata": {},
   "outputs": [
    {
     "name": "stdout",
     "output_type": "stream",
     "text": [
      "ajay devgan\n",
      "virat kohli\n",
      "honey singh\n"
     ]
    }
   ],
   "source": [
    "s=singer()\n",
    "s.name()\n",
    "s.name2()\n",
    "s.name3()"
   ]
  },
  {
   "cell_type": "code",
   "execution_count": null,
   "metadata": {},
   "outputs": [],
   "source": []
  },
  {
   "cell_type": "code",
   "execution_count": 1,
   "metadata": {},
   "outputs": [],
   "source": [
    "import abc\n",
    "\n",
    "class pwskills:\n",
    "    @abc.abstractmethod\n",
    "    def student_details(self):\n",
    "        pass\n",
    "\n",
    "    @abc.abstractmethod    \n",
    "    def assignment_marks(self):\n",
    "        pass\n",
    "\n",
    "    @abc.abstractmethod    \n",
    "    def student_marks(self):\n",
    "        pass\n",
    "\n"
   ]
  },
  {
   "cell_type": "code",
   "execution_count": 2,
   "metadata": {},
   "outputs": [],
   "source": [
    "class datascience(pwskills):\n",
    "\n",
    "    def student_details(self):\n",
    "        return \"this will return details of data science students\"\n",
    "    \n",
    "    def student_marks(self):\n",
    "        return \"this will return student marks\""
   ]
  },
  {
   "cell_type": "code",
   "execution_count": 3,
   "metadata": {},
   "outputs": [
    {
     "data": {
      "text/plain": [
       "'this will return details of data science students'"
      ]
     },
     "execution_count": 3,
     "metadata": {},
     "output_type": "execute_result"
    }
   ],
   "source": [
    "ds=datascience()\n",
    "ds.student_details()"
   ]
  },
  {
   "cell_type": "code",
   "execution_count": null,
   "metadata": {},
   "outputs": [],
   "source": []
  }
 ],
 "metadata": {
  "kernelspec": {
   "display_name": "myvenv",
   "language": "python",
   "name": "python3"
  },
  "language_info": {
   "codemirror_mode": {
    "name": "ipython",
    "version": 3
   },
   "file_extension": ".py",
   "mimetype": "text/x-python",
   "name": "python",
   "nbconvert_exporter": "python",
   "pygments_lexer": "ipython3",
   "version": "3.11.4"
  },
  "orig_nbformat": 4
 },
 "nbformat": 4,
 "nbformat_minor": 2
}
