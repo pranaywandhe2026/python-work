{
 "cells": [
  {
   "cell_type": "code",
   "execution_count": 8,
   "metadata": {},
   "outputs": [],
   "source": [
    "# q1\n",
    "class vehicle:\n",
    "    def __init__ (self,name_of_vehicle,max_speed,average_of_vehicle):\n",
    "        self.name_of_vehicle=name_of_vehicle\n",
    "        self.max_speed=max_speed\n",
    "        self.average_of_vehicle=average_of_vehicle\n",
    "    def return_details_of_vehicle(self):\n",
    "        return self.name_of_vehicle,self.max_speed,self.average_of_vehicle"
   ]
  },
  {
   "cell_type": "code",
   "execution_count": 9,
   "metadata": {},
   "outputs": [
    {
     "data": {
      "text/plain": [
       "('fortuner', 100, 20)"
      ]
     },
     "execution_count": 9,
     "metadata": {},
     "output_type": "execute_result"
    }
   ],
   "source": [
    "v=vehicle(\"fortuner\",100,20)\n",
    "v.return_details_of_vehicle()"
   ]
  },
  {
   "cell_type": "code",
   "execution_count": 2,
   "metadata": {},
   "outputs": [],
   "source": [
    "# q2\n",
    "class vehicle:\n",
    "    def __init__ (self,name_of_vehicle,max_speed,average_of_vehicle):\n",
    "        self.name_of_vehicle=name_of_vehicle\n",
    "        self.max_speed=max_speed\n",
    "        self.average_of_vehicle=average_of_vehicle\n",
    "    "
   ]
  },
  {
   "cell_type": "code",
   "execution_count": 3,
   "metadata": {},
   "outputs": [],
   "source": [
    "class car(vehicle):\n",
    "    def seating_capacity(self,capacity):\n",
    "        self.capacity=capacity\n",
    "        return self.capacity,self.name_of_vehicle"
   ]
  },
  {
   "cell_type": "code",
   "execution_count": 28,
   "metadata": {},
   "outputs": [
    {
     "data": {
      "text/plain": [
       "(4, 'fortuner')"
      ]
     },
     "execution_count": 28,
     "metadata": {},
     "output_type": "execute_result"
    }
   ],
   "source": [
    "\n",
    "c=car(\"fortuner\",100,20)\n",
    "c.seating_capacity(4)\n"
   ]
  },
  {
   "cell_type": "code",
   "execution_count": 29,
   "metadata": {},
   "outputs": [],
   "source": [
    "# q3\n",
    "# multiple inheritance is a case of inheritance in which two parent classes are inherit by a single child class whose object can access variables and methods of all the parent classes and itself\n",
    "class MSDHONI:\n",
    "    def message(self):\n",
    "        print(\"myself ms dhoni\")\n"
   ]
  },
  {
   "cell_type": "code",
   "execution_count": 30,
   "metadata": {},
   "outputs": [],
   "source": [
    "class YUVRAJSINGH:\n",
    "    def message2(self):\n",
    "        print(\"myself yuvraj singh\")"
   ]
  },
  {
   "cell_type": "code",
   "execution_count": 31,
   "metadata": {},
   "outputs": [],
   "source": [
    "class cricketer(MSDHONI,YUVRAJSINGH):\n",
    "    def message3(self):\n",
    "        print(\"msdhoni and yuvrajsingh both are indian cricketers\")"
   ]
  },
  {
   "cell_type": "code",
   "execution_count": 32,
   "metadata": {},
   "outputs": [
    {
     "name": "stdout",
     "output_type": "stream",
     "text": [
      "myself ms dhoni\n",
      "myself yuvraj singh\n",
      "msdhoni and yuvrajsingh both are indian cricketers\n"
     ]
    }
   ],
   "source": [
    "c=cricketer()\n",
    "c.message()\n",
    "c.message2()\n",
    "c.message3()"
   ]
  },
  {
   "cell_type": "code",
   "execution_count": 34,
   "metadata": {},
   "outputs": [],
   "source": [
    "# q4\n",
    "# setters are used in python where data is hide from users and we can not directly access the variable so we make extra methods for setting our varibles called setters and in order to get our set varibles we need to make another method called getters in the same class\n",
    "class vehicle:\n",
    "    def __init__(self,speed,company):\n",
    "        self.__speed=speed\n",
    "        self.__company=company\n",
    "    def set_speed_company(self,speed,company):\n",
    "        self.__speed=speed\n",
    "        self.__company=company\n",
    "    def get_speed_company(self):\n",
    "        return self.__speed,self.__company"
   ]
  },
  {
   "cell_type": "code",
   "execution_count": 36,
   "metadata": {},
   "outputs": [
    {
     "data": {
      "text/plain": [
       "(200, 'ferrari')"
      ]
     },
     "execution_count": 36,
     "metadata": {},
     "output_type": "execute_result"
    }
   ],
   "source": [
    "v=vehicle(100,\"fortuner\")\n",
    "v.set_speed_company(200,\"ferrari\")\n",
    "v.get_speed_company()"
   ]
  },
  {
   "cell_type": "code",
   "execution_count": 37,
   "metadata": {},
   "outputs": [],
   "source": [
    "# q5\n",
    "# method overriding is used to override a method in a class by inheriting it in another class with same name and parameter\n",
    "class fortuner:\n",
    "    def name(self):\n",
    "        print(\"fortuner\")"
   ]
  },
  {
   "cell_type": "code",
   "execution_count": 38,
   "metadata": {},
   "outputs": [],
   "source": [
    "class ferrari(fortuner):\n",
    "    def name(self):\n",
    "        print(\"ferrari\")"
   ]
  },
  {
   "cell_type": "code",
   "execution_count": 40,
   "metadata": {},
   "outputs": [
    {
     "name": "stdout",
     "output_type": "stream",
     "text": [
      "ferrari\n"
     ]
    }
   ],
   "source": [
    "car=ferrari()\n",
    "car.name()"
   ]
  },
  {
   "cell_type": "code",
   "execution_count": null,
   "metadata": {},
   "outputs": [],
   "source": []
  }
 ],
 "metadata": {
  "kernelspec": {
   "display_name": "myvenv",
   "language": "python",
   "name": "python3"
  },
  "language_info": {
   "codemirror_mode": {
    "name": "ipython",
    "version": 3
   },
   "file_extension": ".py",
   "mimetype": "text/x-python",
   "name": "python",
   "nbconvert_exporter": "python",
   "pygments_lexer": "ipython3",
   "version": "3.11.4"
  },
  "orig_nbformat": 4
 },
 "nbformat": 4,
 "nbformat_minor": 2
}
