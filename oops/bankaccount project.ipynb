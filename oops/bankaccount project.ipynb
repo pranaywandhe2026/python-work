{
 "cells": [
  {
   "cell_type": "code",
   "execution_count": 1,
   "metadata": {},
   "outputs": [],
   "source": [
    "class bank_account:\n",
    "    def __init__ (self,balance):\n",
    "        self.__balance=balance\n",
    "\n",
    "    def deposit(self,amount):\n",
    "        self.__balance+=amount\n",
    "\n",
    "    def withdraw(self,amount):\n",
    "        if(amount<=self.__balance):\n",
    "            self.__balance-=amount\n",
    "            print(\"amount successfully withdraw\")\n",
    "        else:\n",
    "            print(\"insufficient balance\")\n",
    "\n",
    "    def show_balance(self):\n",
    "        return self.__balance"
   ]
  },
  {
   "cell_type": "code",
   "execution_count": 2,
   "metadata": {},
   "outputs": [
    {
     "name": "stdout",
     "output_type": "stream",
     "text": [
      "amount successfully withdraw\n",
      "insufficient balance\n"
     ]
    }
   ],
   "source": [
    "ajay_devgan=bank_account(1000)\n",
    "ajay_devgan.withdraw(500)\n",
    "ajay_devgan.show_balance()\n",
    "ajay_devgan.deposit(10000)\n",
    "ajay_devgan.show_balance()\n",
    "ajay_devgan.withdraw(20000)\n"
   ]
  }
 ],
 "metadata": {
  "kernelspec": {
   "display_name": "myvenv",
   "language": "python",
   "name": "python3"
  },
  "language_info": {
   "codemirror_mode": {
    "name": "ipython",
    "version": 3
   },
   "file_extension": ".py",
   "mimetype": "text/x-python",
   "name": "python",
   "nbconvert_exporter": "python",
   "pygments_lexer": "ipython3",
   "version": "3.11.4"
  },
  "orig_nbformat": 4
 },
 "nbformat": 4,
 "nbformat_minor": 2
}
